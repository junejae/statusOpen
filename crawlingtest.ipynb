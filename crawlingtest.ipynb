{
 "cells": [
  {
   "cell_type": "code",
   "execution_count": 1,
   "metadata": {},
   "outputs": [],
   "source": [
    "# 기본 패키지\n",
    "import time\n",
    "import pandas as pd\n",
    "from bs4 import BeautifulSoup\n",
    "from tqdm import tqdm\n",
    "\n",
    "# 크롤링 패키지\n",
    "from selenium import webdriver\n",
    "from selenium.webdriver.common.by import By\n",
    "from selenium.webdriver.support.select import Select"
   ]
  },
  {
   "cell_type": "code",
   "execution_count": 2,
   "metadata": {},
   "outputs": [
    {
     "name": "stderr",
     "output_type": "stream",
     "text": [
      "C:\\Users\\mykjj\\AppData\\Local\\Temp\\ipykernel_16724\\3464821457.py:7: DeprecationWarning: executable_path has been deprecated, please pass in a Service object\n",
      "  driver = webdriver.Chrome(driver_dir) # 크롬드라이버 경로 설정\n"
     ]
    }
   ],
   "source": [
    "# chromedriver가 저장된 위치\n",
    "driver_dir = 'chromedriver.exe'\n",
    "\n",
    "# 결과물을 저장할 위치\n",
    "data_dir = ''\n",
    "\n",
    "driver = webdriver.Chrome(driver_dir) # 크롬드라이버 경로 설정\n",
    "\n",
    "# url입력\n",
    "url = \"https://pagestage.kakao.com/novels/30157856\" # 사이트 입력\n",
    "driver.get(url) # 사이트 오픈\n",
    "time.sleep(5) # 5초 지연\n"
   ]
  },
  {
   "cell_type": "code",
   "execution_count": 3,
   "metadata": {},
   "outputs": [],
   "source": [
    "# 더보기 버튼이 없어지기 전까지 무한클릭 -> 모든 댓글 확보\n",
    "while True:\n",
    "    try:\n",
    "        more_xpath = '''//*[@id=\"__next\"]/div[1]/div/main/section/div/div[3]/section/button'''\n",
    "        driver.find_element(by=By.XPATH, value=more_xpath).click()\n",
    "        time.sleep(3)\n",
    "    except:\n",
    "        break\n",
    "\n",
    "# 스포일러 방지 버튼이 없어지기 전까지 무한클릭 -> 모든 내용 온전히 확보\n",
    "while True:\n",
    "    try:\n",
    "        spoil_xpath = '''//*[@id=\"__next\"]/div[1]/div/main/section/div/div[3]/section/div/div/div/p/button'''\n",
    "        driver.find_element(by=By.XPATH, value=spoil_xpath).click()\n",
    "        time.sleep(2)\n",
    "    except:\n",
    "        break"
   ]
  },
  {
   "cell_type": "code",
   "execution_count": null,
   "metadata": {},
   "outputs": [],
   "source": [
    "# 페이지 소스 출력\n",
    "html = driver.page_source\n",
    "html_source = BeautifulSoup(html, 'html.parser')\n",
    "full_comments = html_source.find_all(\"div\", attrs={\"class\":\"flex-[0_1_100%] relative\"})  # 전체 댓글 스크립트"
   ]
  },
  {
   "cell_type": "code",
   "execution_count": null,
   "metadata": {},
   "outputs": [],
   "source": [
    "# 데이터 추출\n",
    "nicknames = []\n",
    "dates = []\n",
    "story_nums = []\n",
    "comments = []\n",
    "likes = []\n",
    "\n",
    "for comment in full_comments:\n",
    "    nickname = comment.find(\"p\", attrs={\"class\":\"break-words font-bold mr-6\"}).string\n",
    "    date = comment.find(\"div\", attrs={\"class\":\"flex-[0_0_auto]\"}).string\n",
    "    story_num = comment.find(\"a\").string\n",
    "    comment = comment.find(\"p\", attrs={\"class\":\"leading-[21px] break-all\"}).string\n",
    "    like = comment.find(\"span\", attrs={\"class\":\"font-gmarket font-medium leading-[normal] pt-[0.2em] text-12 text-13\"}).string\n",
    "\n",
    "    nicknames.append(nickname)\n",
    "    dates.append(date)\n",
    "    story_nums.append(story_num)\n",
    "    comments.append(comment)\n",
    "    likes.append(like)"
   ]
  },
  {
   "cell_type": "code",
   "execution_count": null,
   "metadata": {},
   "outputs": [
    {
     "name": "stdout",
     "output_type": "stream",
     "text": [
      "킨키\n",
      "2022.04.11\n",
      "5화\n",
      "코락스 작가의 장단점\n",
      "장점: 맛깔나는 생생한 묘사, 문답 배틀\n",
      "단점: 연재 화수가 적고 5월까지 주3회 연재, 죽지않는왕 단행본 아직 안나옴\n",
      "12\n"
     ]
    }
   ],
   "source": [
    "# csv 파일로 저장하기\n",
    "total_comments = pd.DataFrame({'nickname':nicknames, 'date':dates,'story_num':story_nums,\n",
    "                            'comment':comments,'like':likes})\n",
    "    \n",
    "total_comments.to_csv(data_dir + f\"comment_data.csv\", index=False, encoding=\"utf-8\")\n"
   ]
  }
 ],
 "metadata": {
  "kernelspec": {
   "display_name": "Python 3.9.6 64-bit",
   "language": "python",
   "name": "python3"
  },
  "language_info": {
   "codemirror_mode": {
    "name": "ipython",
    "version": 3
   },
   "file_extension": ".py",
   "mimetype": "text/x-python",
   "name": "python",
   "nbconvert_exporter": "python",
   "pygments_lexer": "ipython3",
   "version": "3.9.6"
  },
  "orig_nbformat": 4,
  "vscode": {
   "interpreter": {
    "hash": "ee686a86eed1adb65001f36481ecc6f9a1abb95353166a6c392a581a41e5b1e4"
   }
  }
 },
 "nbformat": 4,
 "nbformat_minor": 2
}
