{
 "cells": [
  {
   "cell_type": "code",
   "execution_count": null,
   "metadata": {},
   "outputs": [],
   "source": [
    "# 기본 패키지\n",
    "import time\n",
    "import pandas as pd\n",
    "from bs4 import BeautifulSoup\n",
    "\n",
    "# 크롤링 패키지\n",
    "from selenium import webdriver\n",
    "from selenium.webdriver.common.by import By\n",
    "from selenium.webdriver.common.keys import Keys\n",
    "from selenium.webdriver.support.select import Select\n",
    "\n",
    "# NLP 패키지\n",
    "from transformers import AutoTokenizer, AutoModelForSequenceClassification, TextClassificationPipeline"
   ]
  },
  {
   "cell_type": "code",
   "execution_count": null,
   "metadata": {},
   "outputs": [],
   "source": [
    "# chromedriver가 저장된 위치\n",
    "driver_dir = \"chromedriver.exe\"\n",
    "\n",
    "# 결과물을 저장할 위치\n",
    "data_dir = \"\"\n",
    "\n",
    "# 데이터를 수집 할 작품 제목\n",
    "novel = \"혁명은 내 취향이 아니었다\"\n",
    "# novel = \"국정원 요원 천재배우로 환생\"\n",
    "\n",
    "driver = webdriver.Chrome(driver_dir) # 크롬드라이버 경로 설정\n",
    "\n",
    "# url입력\n",
    "url = \"https://pagestage.kakao.com/search\" # 사이트 입력\n",
    "driver.get(url) # 사이트 오픈\n",
    "time.sleep(5) # 5초 지연"
   ]
  },
  {
   "cell_type": "code",
   "execution_count": null,
   "metadata": {},
   "outputs": [],
   "source": [
    "# 검색창 선택\n",
    "xpath = '''//*[@id=\"__next\"]/div[1]/div/main/div/div/div[1]/div/form/div/input'''\n",
    "element = driver.find_element(by=By.XPATH, value=xpath)\n",
    "element.clear()\n",
    "time.sleep(2)\n",
    "\n",
    "# 검색창 입력\n",
    "element.send_keys(novel)\n",
    "time.sleep(2)\n",
    "\n",
    "element.send_keys(Keys.ENTER)\n",
    "time.sleep(2)\n",
    "\n",
    "# 처음 보이는 검색결과 클릭(19금 작품은 로그인 되어있지 않아 열람 불가능)\n",
    "search_xpath = '''//*[@id=\"__next\"]/div[1]/div/main/div/div/div[3]/div/div[2]/div[1]/div'''\n",
    "driver.find_element(by=By.XPATH, value=search_xpath).click()\n",
    "time.sleep(2)"
   ]
  },
  {
   "cell_type": "code",
   "execution_count": 4,
   "metadata": {},
   "outputs": [],
   "source": [
    "# 더보기 버튼이 없어지기 전까지 무한클릭 -> 모든 댓글 확보\n",
    "while True:\n",
    "    try:\n",
    "        more_xpath = '''//*[@id=\"__next\"]/div[1]/div/main/section/div/div[3]/section/button'''\n",
    "        driver.find_element(by=By.XPATH, value=more_xpath).click()\n",
    "        time.sleep(3)\n",
    "    except:\n",
    "        break\n",
    "\n",
    "# 스포일러 방지 버튼이 없어지기 전까지 무한클릭 -> 모든 내용 온전히 확보\n",
    "while True:\n",
    "    try:\n",
    "        spoil_xpath = '''//*[@id=\"__next\"]/div[1]/div/main/section/div/div[3]/section/div/div/div/p/button'''\n",
    "        driver.find_element(by=By.XPATH, value=spoil_xpath).click()\n",
    "        time.sleep(2)\n",
    "    except:\n",
    "        break"
   ]
  },
  {
   "cell_type": "code",
   "execution_count": 5,
   "metadata": {},
   "outputs": [],
   "source": [
    "# 페이지 소스 출력\n",
    "html = driver.page_source\n",
    "html_source = BeautifulSoup(html, 'html.parser')\n",
    "full_comments = html_source.find_all(\"div\", attrs={\"class\":\"flex-[0_1_100%] relative\"})  # 전체 댓글 스크립트"
   ]
  },
  {
   "cell_type": "code",
   "execution_count": 6,
   "metadata": {},
   "outputs": [],
   "source": [
    "# 검색 페이지로 돌아가기\n",
    "driver.get(url)\n",
    "time.sleep(5)"
   ]
  },
  {
   "cell_type": "code",
   "execution_count": 8,
   "metadata": {},
   "outputs": [],
   "source": [
    "driver.close()  # 크롬드라이버 종료"
   ]
  },
  {
   "cell_type": "code",
   "execution_count": 6,
   "metadata": {},
   "outputs": [],
   "source": [
    "# 데이터 추출\n",
    "nicknames = []\n",
    "dates = []\n",
    "story_nums = []\n",
    "sentences = []\n",
    "likes = []\n",
    "\n",
    "for comment in full_comments:\n",
    "    nickname = comment.find(\"p\", attrs={\"class\":\"break-words font-bold mr-6\"}).string\n",
    "    date = comment.find(\"div\", attrs={\"class\":\"flex-[0_0_auto]\"}).string\n",
    "    story_num = comment.find(\"a\").string\n",
    "    sentence = comment.find(\"p\", attrs={\"class\":\"leading-[21px] break-all\"}).string\n",
    "    like = comment.find(\"span\", attrs={\"class\":\"font-gmarket font-medium leading-[normal] pt-[0.2em] text-12 text-13\"}).string\n",
    "    \n",
    "    # 댓글 전처리 작업\n",
    "    sentence = sentence.replace(\"#스테이지스테플러_대가성활동\", \"\").strip()\n",
    "\n",
    "    nicknames.append(nickname)\n",
    "    dates.append(date)\n",
    "    story_nums.append(story_num)\n",
    "    sentences.append(sentence)\n",
    "    likes.append(like)"
   ]
  },
  {
   "cell_type": "code",
   "execution_count": null,
   "metadata": {},
   "outputs": [],
   "source": [
    "# 댓글 감정분석\n",
    "model_name = \"searle-j/kote_for_easygoing_people\"\n",
    "model = AutoModelForSequenceClassification.from_pretrained(model_name)\n",
    "tokenizer = AutoTokenizer.from_pretrained(model_name)\n",
    "\n",
    "pipe = TextClassificationPipeline(\n",
    "        model=model,\n",
    "        tokenizer=tokenizer,\n",
    "        device=0, # gpu number, -1 if cpu used\n",
    "        return_all_scores=True,\n",
    "        function_to_apply='sigmoid'\n",
    "    )\n",
    "\n",
    "emotions = []\n",
    "\n",
    "for outputs in pipe(sentences):\n",
    "    temp = set()\n",
    "\n",
    "    for output in outputs:\n",
    "        if output[\"score\"]>0.4:\n",
    "            temp.add(output[\"label\"])\n",
    "\n",
    "    emotions.append(temp)"
   ]
  },
  {
   "cell_type": "code",
   "execution_count": 8,
   "metadata": {},
   "outputs": [],
   "source": [
    "# csv 파일로 저장하기\n",
    "total_comments = pd.DataFrame({'nickname':nicknames, 'date':dates,'story_num':story_nums,\n",
    "                            'comment':sentences,'like':likes, 'emotion':emotions})\n",
    "    \n",
    "total_comments.to_csv(data_dir + f\"comment_data.csv\", index=False, encoding=\"utf-8\")\n"
   ]
  }
 ],
 "metadata": {
  "kernelspec": {
   "display_name": "Python 3.9.6 64-bit",
   "language": "python",
   "name": "python3"
  },
  "language_info": {
   "codemirror_mode": {
    "name": "ipython",
    "version": 3
   },
   "file_extension": ".py",
   "mimetype": "text/x-python",
   "name": "python",
   "nbconvert_exporter": "python",
   "pygments_lexer": "ipython3",
   "version": "3.9.6"
  },
  "orig_nbformat": 4,
  "vscode": {
   "interpreter": {
    "hash": "ee686a86eed1adb65001f36481ecc6f9a1abb95353166a6c392a581a41e5b1e4"
   }
  }
 },
 "nbformat": 4,
 "nbformat_minor": 2
}
