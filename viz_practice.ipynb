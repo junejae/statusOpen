{
 "cells": [
  {
   "cell_type": "code",
   "execution_count": 1,
   "metadata": {},
   "outputs": [],
   "source": [
    "import pandas as pd\n",
    "import numpy as np\n",
    "import matplotlib as mpl\n",
    "import matplotlib.pyplot as plt\n",
    "from collections import defaultdict\n",
    "\n",
    "DATE_COLUMN = 'date'\n",
    "EMOTION_COLUMN = 'emotion'\n",
    "DATA_DIR = ('혁명은 내 취향이 아니었다_comment_data.csv')"
   ]
  },
  {
   "cell_type": "code",
   "execution_count": 2,
   "metadata": {},
   "outputs": [],
   "source": [
    "data = pd.read_csv(DATA_DIR, encoding=\"utf-8\")\n",
    "data[DATE_COLUMN] = pd.to_datetime(data[DATE_COLUMN])\n",
    "\n",
    "temp = []\n",
    "\n",
    "for emote in data[EMOTION_COLUMN]:\n",
    "    temp.append(eval(emote))\n",
    "    \n",
    "data[EMOTION_COLUMN] = temp"
   ]
  },
  {
   "cell_type": "code",
   "execution_count": 3,
   "metadata": {},
   "outputs": [],
   "source": [
    "categories = ['불평/불만', '환영/호의', '감동/감탄', '지긋지긋', '고마움', '슬픔', '화남/분노', '존경', '기대감', '우쭐댐/무시함', '안타까움/실망', '비장함', '의심/불신', '뿌듯함', '편안/쾌적', '신기함/관심', '아껴주는', '부끄러움', '공포/무서움', '절망', '한심함', '역겨움/징그러움', '짜증', '어이없음', '없음', '패배/자기혐오', '귀찮음', '힘듦/지침', '즐거움/신남', '깨달음', '죄책감', '증오/혐오', '흐뭇함(귀여움/예쁨)', '당황/난처', '경악', '부담/안_내킴', '서러움', '재미없음', '불쌍함/연민', '놀람', '행복', '불안/걱정', '기쁨', '안심/신뢰']"
   ]
  },
  {
   "cell_type": "code",
   "execution_count": 4,
   "metadata": {},
   "outputs": [],
   "source": [
    "stories = [defaultdict(int) for _ in range(max(list(data['story_num'])) + 1)]"
   ]
  },
  {
   "cell_type": "code",
   "execution_count": 5,
   "metadata": {},
   "outputs": [],
   "source": [
    "for emotes, like, num in zip(data[EMOTION_COLUMN], data['like'], data['story_num']):\n",
    "    for emote in emotes:\n",
    "        stories[num][emote] += (1 + like)"
   ]
  },
  {
   "cell_type": "code",
   "execution_count": 9,
   "metadata": {},
   "outputs": [],
   "source": [
    "temp = list(stories[50].items())\n",
    "\n",
    "temp.sort(key=lambda x: x[1], reverse=True)\n",
    "\n",
    "emo_keys = [key for key, _ in temp]\n",
    "emo_vals = [val for _, val in temp]\n",
    "\n",
    "if len(emo_keys) > 5:\n",
    "    emo_keys = emo_keys[:5]\n",
    "    emo_vals = emo_vals[:5]"
   ]
  },
  {
   "cell_type": "code",
   "execution_count": null,
   "metadata": {},
   "outputs": [],
   "source": [
    "plt.rcParams['font.family'] = 'NanumGothic'\n",
    "fig, axs = plt.subplots(figsize=(15, 10))\n",
    "axs.bar(emo_keys, emo_vals)"
   ]
  },
  {
   "cell_type": "code",
   "execution_count": null,
   "metadata": {},
   "outputs": [],
   "source": [
    "data[data['story_num'] == 50]"
   ]
  }
 ],
 "metadata": {
  "kernelspec": {
   "display_name": "Python 3.9.6 64-bit",
   "language": "python",
   "name": "python3"
  },
  "language_info": {
   "codemirror_mode": {
    "name": "ipython",
    "version": 3
   },
   "file_extension": ".py",
   "mimetype": "text/x-python",
   "name": "python",
   "nbconvert_exporter": "python",
   "pygments_lexer": "ipython3",
   "version": "3.9.6"
  },
  "orig_nbformat": 4,
  "vscode": {
   "interpreter": {
    "hash": "ee686a86eed1adb65001f36481ecc6f9a1abb95353166a6c392a581a41e5b1e4"
   }
  }
 },
 "nbformat": 4,
 "nbformat_minor": 2
}
